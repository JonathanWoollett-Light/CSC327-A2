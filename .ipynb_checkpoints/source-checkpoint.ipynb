{
 "cells": [
  {
   "cell_type": "code",
   "execution_count": 1,
   "metadata": {},
   "outputs": [
    {
     "name": "stdout",
     "output_type": "stream",
     "text": [
      "Hello World\n"
     ]
    }
   ],
   "source": [
    "print(\"Hello World\")"
   ]
  },
  {
   "cell_type": "code",
   "execution_count": 49,
   "metadata": {},
   "outputs": [
    {
     "data": {
      "text/plain": [
       "RendererRegistry.enable('notebook')"
      ]
     },
     "execution_count": 49,
     "metadata": {},
     "output_type": "execute_result"
    }
   ],
   "source": [
    "# Import libraries\n",
    "\n",
    "import numpy as np\n",
    "import pandas as pd\n",
    "from matplotlib import pyplot as plt\n",
    "import altair as alt\n",
    "alt.renderers.enable('notebook')"
   ]
  },
  {
   "cell_type": "code",
   "execution_count": 50,
   "metadata": {},
   "outputs": [],
   "source": [
    "# Importing data\n",
    "\n",
    "data = pd.read_csv(\"120-years-of-olympic-history-athletes-and-results/athlete_events.csv\")\n",
    "regions = pd.read_csv(\"120-years-of-olympic-history-athletes-and-results/noc_regions.csv\")"
   ]
  },
  {
   "cell_type": "code",
   "execution_count": 68,
   "metadata": {},
   "outputs": [
    {
     "data": {
      "application/javascript": [
       "const spec = {\"config\": {\"view\": {\"width\": 400, \"height\": 300}, \"mark\": {\"tooltip\": null}}, \"data\": {\"name\": \"data-894119529ae1d8760cc9216476fdec67\"}, \"mark\": \"bar\", \"encoding\": {\"x\": {\"type\": \"quantitative\", \"field\": \"Year\"}, \"y\": {\"type\": \"quantitative\", \"field\": \"Height\"}}, \"$schema\": \"https://vega.github.io/schema/vega-lite/v3.4.0.json\", \"datasets\": {\"data-894119529ae1d8760cc9216476fdec67\": [{\"Year\": 1896, \"Height\": 2.433948878439548}, {\"Year\": 1900, \"Height\": 4.4484045826972745}, {\"Year\": 1904, \"Height\": 4.148108521657718}, {\"Year\": 1906, \"Height\": 7.565693001970955}, {\"Year\": 1908, \"Height\": 8.143741706371271}, {\"Year\": 1912, \"Height\": 5.430918068553947}, {\"Year\": 1920, \"Height\": 6.729370338005054}, {\"Year\": 1924, \"Height\": 6.194350729527216}, {\"Year\": 1928, \"Height\": 5.770196407619336}, {\"Year\": 1932, \"Height\": 8.969625269323553}, {\"Year\": 1936, \"Height\": 8.250024448939739}, {\"Year\": 1948, \"Height\": 4.257116873424171}, {\"Year\": 1952, \"Height\": 6.370992657233371}, {\"Year\": 1956, \"Height\": 6.272180730653834}, {\"Year\": 1960, \"Height\": 7.403864640391832}, {\"Year\": 1964, \"Height\": 7.531727854918636}, {\"Year\": 1968, \"Height\": 7.2595196584467745}, {\"Year\": 1972, \"Height\": 7.794066449109928}, {\"Year\": 1976, \"Height\": 8.272278797062478}, {\"Year\": 1980, \"Height\": 8.139346928200759}, {\"Year\": 1984, \"Height\": 7.430208483345752}, {\"Year\": 1988, \"Height\": 7.846350367172168}, {\"Year\": 1992, \"Height\": 9.06137132094958}, {\"Year\": 1994, \"Height\": 7.930711624861526}, {\"Year\": 1996, \"Height\": 9.129921305110994}, {\"Year\": 1998, \"Height\": 8.175838771107413}, {\"Year\": 2000, \"Height\": 8.3361091659427}, {\"Year\": 2002, \"Height\": 9.27521895158104}, {\"Year\": 2004, \"Height\": 8.649274234814355}, {\"Year\": 2006, \"Height\": 7.815016978197121}, {\"Year\": 2008, \"Height\": 8.92278704288437}, {\"Year\": 2010, \"Height\": 7.850868011846968}, {\"Year\": 2012, \"Height\": 8.975534600558618}, {\"Year\": 2014, \"Height\": 8.11337034808953}, {\"Year\": 2016, \"Height\": 9.38066185575731}]}};\n",
       "const opt = {};\n",
       "const type = \"vega-lite\";\n",
       "const id = \"a1caad1c-fd49-486a-b1a9-3653e6d1eed8\";\n",
       "\n",
       "const output_area = this;\n",
       "\n",
       "require([\"nbextensions/jupyter-vega/index\"], function(vega) {\n",
       "  const target = document.createElement(\"div\");\n",
       "  target.id = id;\n",
       "  target.className = \"vega-embed\";\n",
       "\n",
       "  const style = document.createElement(\"style\");\n",
       "  style.textContent = [\n",
       "    \".vega-embed .error p {\",\n",
       "    \"  color: firebrick;\",\n",
       "    \"  font-size: 14px;\",\n",
       "    \"}\",\n",
       "  ].join(\"\\\\n\");\n",
       "\n",
       "  // element is a jQuery wrapped DOM element inside the output area\n",
       "  // see http://ipython.readthedocs.io/en/stable/api/generated/\\\n",
       "  // IPython.display.html#IPython.display.Javascript.__init__\n",
       "  element[0].appendChild(target);\n",
       "  element[0].appendChild(style);\n",
       "\n",
       "  vega.render(\"#\" + id, spec, type, opt, output_area);\n",
       "}, function (err) {\n",
       "  if (err.requireType !== \"scripterror\") {\n",
       "    throw(err);\n",
       "  }\n",
       "});\n"
      ],
      "text/plain": [
       "<vega.vegalite.VegaLite at 0x7f862af332e8>"
      ]
     },
     "metadata": {
      "jupyter-vega": "#a1caad1c-fd49-486a-b1a9-3653e6d1eed8"
     },
     "output_type": "display_data"
    },
    {
     "data": {
      "text/plain": []
     },
     "execution_count": 68,
     "metadata": {},
     "output_type": "execute_result"
    },
    {
     "data": {
      "image/png": "[encoded data removed]"
     },
     "metadata": {
      "jupyter-vega": "#a1caad1c-fd49-486a-b1a9-3653e6d1eed8"
     },
     "output_type": "display_data"
    }
   ],
   "source": [
    "#data = data[(data.Medal == \"Gold\")]\n",
    "\n",
    "std_by_year_sport = data.groupby(['Year','Sport'])['Height','Weight'].std() # .reset_index()\n",
    "\n",
    "#print(std_by_year_sport)\n",
    "\n",
    "avg_std_by_year = std_by_year_sport.groupby(['Year'])['Height','Weight'].mean()\n",
    "\n",
    "#print(avg_std_by_year)\n",
    "\n",
    "avg_std_by_year_height = avg_std_by_year.drop([\"Weight\"],axis=1).reset_index()\n",
    "\n",
    "#print(avg_std_by_year_height)\n",
    "\n",
    "alt.Chart(avg_std_by_year_height).mark_bar().encode(\n",
    "    x='Year',\n",
    "    y='Height'\n",
    ")"
   ]
  },
  {
   "cell_type": "code",
   "execution_count": null,
   "metadata": {},
   "outputs": [],
   "source": []
  }
 ],
 "metadata": {
  "kernelspec": {
   "display_name": "Python 3",
   "language": "python",
   "name": "python3"
  },
  "language_info": {
   "codemirror_mode": {
    "name": "ipython",
    "version": 3
   },
   "file_extension": ".py",
   "mimetype": "text/x-python",
   "name": "python",
   "nbconvert_exporter": "python",
   "pygments_lexer": "ipython3",
   "version": "3.7.3"
  }
 },
 "nbformat": 4,
 "nbformat_minor": 2
}
