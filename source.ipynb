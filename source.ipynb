{
 "cells": [
  {
   "cell_type": "code",
   "execution_count": 2,
   "metadata": {},
   "outputs": [
    {
     "data": {
      "text/plain": [
       "RendererRegistry.enable('notebook')"
      ]
     },
     "execution_count": 2,
     "metadata": {},
     "output_type": "execute_result"
    }
   ],
   "source": [
    "# Import libraries\n",
    "\n",
    "import numpy as np\n",
    "import pandas as pd\n",
    "from matplotlib import pyplot as plt\n",
    "import altair as alt\n",
    "alt.renderers.enable('notebook')"
   ]
  },
  {
   "cell_type": "code",
   "execution_count": 5,
   "metadata": {},
   "outputs": [],
   "source": [
    "# The warnings can fuck right off\n",
    "import warnings\n",
    "warnings.filterwarnings('ignore')\n",
    "\n",
    "desc = pd.read_csv(\n",
    "    \"european-social-survey-ess-8-ed21-201617/variables.csv\"\n",
    ")\n",
    "\n",
    "data = pd.read_csv(\n",
    "    \"european-social-survey-ess-8-ed21-201617/ESS8e02.1_F1.csv\"\n",
    ")"
   ]
  },
  {
   "cell_type": "code",
   "execution_count": 6,
   "metadata": {},
   "outputs": [
    {
     "name": "stdout",
     "output_type": "stream",
     "text": [
      "(1, 5)\n",
      "1\n",
      "5\n"
     ]
    }
   ],
   "source": [
    "# Dictionairy of column max,mins\n",
    "column_dict = {\n",
    "    \"netusoft\":(1,5),\"ppltrst\":(0,10),\"pplfair\":(0,10),\"pplhlp\":(0,10),\n",
    "    \"polintr\":(1,4),\"psppsgva\":(1,7),\"actrolga\":(1,5),\"psppipla\":(1,7),\n",
    "    \"cptppola\":(1,5),\"trstprl\":(0,10),\"trstprl\":(0,10),\"trstlgl\":(0,10),\n",
    "    \"trstplc\":(0,10),\"trstplt\":(0,10),\"trstprt\":(0,10),\"trstep\":(0,10),\n",
    "    \"trstun\":(0,10),\"contplt\":(1,2),\"wrkprty\":(1,2),\"wrkorg\":(1,2),\n",
    "    \"badge\":(1,2),\"sgnptit\":(1,2),\"pbldmn\":(1,2),\"bctprd\":(1,2),\n",
    "    \"pstplonl\":(1,2),\"clsprty\":(1,2),\"prtdgcl\":(1,4),\"lrscale\":(0,10),\n",
    "    \"stflife\":(0,10),\"stfeco\":(0,10),\"stfgov\":(0,10),\"stfdem\":(0,10),\n",
    "    \"stfedu\":(0,10),\"stfhlth\":(0,10),\"gincdif\":(1,5), \"mnrgtjb\":(1,5),\n",
    "    \"freehms\":(1,5), \"hmsfmlsh\":(1,5), \"hmsacld\":(1,5), \"euftf\":(0,10),\n",
    "    \"imsmetn\":(1,4), \"imdfetn\":(1,4), \"impcntr\":(1,4), \"imbgeco\":(0,10),\n",
    "    \"imueclt\":(0,10), \"imwbcnt\":(0,10), \"happy\":(0,10), \"sclmeet\":(1,7),\n",
    "    \"inprdsc\":(0,6), \"sclact\":(1,5), \"crmvct\":(1,2), \"aesfdrk\":(1,4),\n",
    "    \"health\":(1,5), \"hlthhmp\":(1,3), \"atchctr\":(0,10), \"atcherp\":(0,10),\n",
    "    \"rlgblg\":(1,2), \"rlgblge\":(1,2), \"rlgdgr\":(0,10), \"rlgatnd\":(0,7),\n",
    "    \"pray\":(1,7), \"dscrgrp\":(1,2), \"dscrrce\":(0,1), \"dscrntn\":(0,1),\n",
    "    \"dscrrlg\":(0,1), \"dscrlng\":(0,1), \"dscretn\":(0,1), \"dscrage\":(0,1),\n",
    "    \"dscrgnd\":(0,1), \"dscrsex\":(0,1), \"dscrdsb\":(0,1), \"dscroth\":(0,1),\n",
    "    \"dscrdk\":(0,1), \"dscrref\":(0,1), \"dscrnap\":(0,1),\"dscrna\":(0,1),\n",
    "    \"ctzcntr\":(1,2), \"brncntr\":(1,2), \"blgetmg\":(1,2), \"facntr\":(1,2),\n",
    "    \"mocntr\":(1,2), \"gvrfgap\":(1,5), \"rfgfrpc\":(1,5), \"rfgbfml\":(1,7),\n",
    "    \"eneffap\":(0,10), \"rdcenr\":(1,6), \"cflsenr\":(0,10),\"elgcoal\":(1,5),\n",
    "    \"elgngas\":(1,5),\"elgngas\":(1,5),\"elghydr\":(1,5),\"elgnuc\":(1,5),\n",
    "    \"elgsun\":(1,5),\"elgwind\":(1,5),\"elgbio\":(1,5),\"wrpwrct\":(1,5),\n",
    "    \"wrenexp\":(1,5),\"wrdpimp\":(1,5),\"wrdpfos\":(1,5),\"wrntdis\":(1,5),\n",
    "    \"wrinspw\":(1,5),\"wrtcfl\":(1,5),\"wrtratc\":(1,5),\"clmchng\":(1,4),\n",
    "    \"clmthgt1\":(1,5),\"clmthgt2\":(1,5),\"ccnthum\":(1,5),\"ccrdprs\":(0,10),\n",
    "    \"wrclmch\":(1,5),\"ccgdbd\":(0,10),\"lkredcc\":(0,10),\"lklmten\":(0,10),\n",
    "    \"gvsrdcc\":(0,10),\"ownrdcc\":(0,10),\"inctxff\":(1,5),\"sbsrnen\":(1,5),\n",
    "    \"banhhap\":(1,5),\"dfincac\":(1,5),\"smdfslv\":(1,5),\"uemplwk\":(1,11),\n",
    "    \"slvpens\":(0,10),\"slvuemp\":(0,10),\"gvslvol\":(0,10),\"gvslvue\":(0,10),\n",
    "    \"gvcldcr\":(0,10),\"sbstrec\":(1,5),\"sbprvpv\":(1,5),\"sbeqsoc\":(1,5),\n",
    "    \"sbbsntx\":(1,5),\"sblazy\":(1,5),\"sblwcoa\":(1,5),\"imsclbn\":(1,5),\n",
    "    \"uentrjb\":(1,5),\"lbenent\":(1,5),\"bennent\":(1,5),\"admub\":(1,4),\n",
    "    \"ubpay\":(1,4),\"ubedu\":(1,4),\"ubunp\":(1,4),\"ub50pay\":(1,4),\n",
    "    \"ub50edu\":(1,4),\"ub50unp\":(1,4),\"ub20pay\":(1,4),\"ub20edu\":(1,4),\n",
    "    \"ub20unp\":(1,4),\"ubsppay\":(1,4),\"ubspedu\":(1,4),\"ubspunp\":(1,4),\n",
    "    \"bnlwinc\":(1,4),\"eduunmp\":(1,4),\"wrkprbf\":(1,4),\"basinc\":(1,4),\n",
    "    \"eusclbf\":(1,4),\"eudcnbf\":(1,5),\"lkuemp\":(1,4),\"lknemny\":(1,4),\n",
    "    \"vteurmmb\":(1,2),\"vteumbgb\":(1,2),\"vteubcmb\":(1,2),\"lvgptnea\":(1,2),\n",
    "    \"dvrcdeva\":(1,2),\"iccohbt\":(1,2),\"chldhm\":(1,2),\"chldhhe\":(1,2),\n",
    "    \"domicil\":(1,5),\"pdwrk\":(0,1),\"edctn\":(0,1),\"uempla\":(0,1),\n",
    "    \"uempli\":(0,1),\"dsbld\":(0,1),\"rtrd\":(0,1),\"cmsrv\":(0,1),\n",
    "    \"hswrk\":(0,1),\"dngoth\":(0,1),\"dngref\":(0,1),\"dngdk\":(0,1),\n",
    "    \"dngna\":(0,1),\"icomdng\":(1,2),\"icpdwrk\":(1,2),\"crpdwk\":(1,2),\n",
    "    \"pdjobev\":(1,2),\"estsz\":(1,5),\"jbspv\":(1,2),\"wkdcorga\":(0,10),\n",
    "    \"iorgact\":(0,10),\"icwhct\":(1,2),\"wrkac6m\":(1,2),\"uemp3m\":(1,2),\n",
    "    \"uemp12m\":(1,2),\"uemp5yr\":(1,2),\"hinctnta\":(1,10),\"hincfel\":(1,4),\n",
    "    \"icpart3\":(1,2),\"pdwrkp\":(0,1),\"edctnp\":(0,1),\"uemplap\":(0,1),\n",
    "    \"uemplip\":(0,1),\"dsbldp\":(0,1),\"rtrdp\":(0,1),\"cmsrvp\":(0,1),\n",
    "    \"hswrkp\":(0,1),\"dngothp\":(0,1),\"dngdkp\":(0,1),\"dngnapp\":(0,1),\n",
    "    \"dngrefp\":(0,1),\"dngnap\":(0,1),\"icppdwk\":(1,2),\"crpdwkp\":(1,2),\n",
    "    \"atncrse\":(1,2),\"ipcrtiv\":(1,6),\"imprich\":(1,6),\"ipeqopt\":(1,6),\n",
    "    \"ipshabt\":(1,6),\"impsafe\":(1,6),\"impdiff\":(1,6),\"ipfrule\":(1,6),\n",
    "    \"ipudrst\":(1,6),\"ipmodst\":(1,6),\"ipgdtim\":(1,6),\"impfree\":(1,6),\n",
    "    \"iphlppl\":(1,6),\"ipsuces\":(1,6),\"ipstrgv\":(1,6),\"ipadvnt\":(1,6),\n",
    "    \"ipbhprp\":(1,6),\"iprspot\":(1,6),\"iplylfr\":(1,6),\"impenv\":(1,6),\n",
    "    \"imptrad\":(1,6),\"impfun\":(1,5)\n",
    "    \n",
    "}\n",
    "print(column_dict[\"netusoft\"])\n",
    "print(column_dict[\"netusoft\"][0])\n",
    "print(column_dict[\"netusoft\"][1])"
   ]
  },
  {
   "cell_type": "code",
   "execution_count": 65,
   "metadata": {},
   "outputs": [
    {
     "name": "stdout",
     "output_type": "stream",
     "text": [
      "useful_questions.shape: (44387, 228)\n"
     ]
    }
   ],
   "source": [
    "# ------------------------------------------------------\n",
    "# --------------Filter to useful questions--------------\n",
    "# ------------------------------------------------------\n",
    "def drop_unusable_data(df):\n",
    "    # Select non-country-specific questions\n",
    "    # Drop all continuous data\n",
    "    # Drops all nominal data\n",
    "    df = df[df.Country_specific == \"no\"]\n",
    "    df = df[df.Type != \"continuous\"]\n",
    "    df = df[df.Scale_type != \"nominal\"]\n",
    "    return df\n",
    "#This lists groups in dictionairy after\n",
    "#print(\"len(data.columns):\",data.shape)\n",
    "#print(\"len(desc.rows):\",desc.shape)\n",
    "groups = [e for e in desc.Group.unique()]\n",
    "interested_desc = desc[(desc.Group != \"Group Country\")]\n",
    "interested_desc = interested_desc[(desc.Group != \"Group Weights\")]\n",
    "interested_desc = interested_desc[(desc.Group != \"Group Administrative variables\")]\n",
    "dropped = drop_unusable_data(interested_desc)\n",
    "# Filter with `data` to select questions in group by name\n",
    "useful_questions = data.filter(dropped.Name)\n",
    "\n",
    "#print(\"useful_questions:\",useful_questions)\n",
    "print(\"useful_questions.shape:\",useful_questions.shape)\n",
    "#print(useful_questions[\"netusoft\"])\n"
   ]
  },
  {
   "cell_type": "code",
   "execution_count": 66,
   "metadata": {},
   "outputs": [
    {
     "name": "stdout",
     "output_type": "stream",
     "text": [
      "0        4\n",
      "1        5\n",
      "2        2\n",
      "3        5\n",
      "4        5\n",
      "        ..\n",
      "44382    2\n",
      "44383    5\n",
      "44384    5\n",
      "44385    5\n",
      "44386    5\n",
      "Name: netusoft, Length: 44387, dtype: int64\n",
      "grouped_answers.shape: (44387, 228)\n",
      "len(useful_questions['netusoft']): 44387\n",
      "useful_questions['netusoft']: 0        0.75\n",
      "1        1.00\n",
      "2        0.25\n",
      "3        1.00\n",
      "4        1.00\n",
      "         ... \n",
      "44382    0.25\n",
      "44383    1.00\n",
      "44384    1.00\n",
      "44385    1.00\n",
      "44386    1.00\n",
      "Name: netusoft, Length: 44387, dtype: float64\n",
      "useful_questions.head():    netusoft  ppltrst  pplfair  pplhlp   polintr  psppsgva  actrolga  psppipla  \\\n",
      "0      0.75      0.8      0.8     0.3  0.000000  0.166667      0.25  0.166667   \n",
      "1      1.00      0.6      0.6     0.5  0.000000  0.000000      0.50  0.166667   \n",
      "2      0.25      0.5      0.6     0.4  0.666667  0.166667      0.25  0.166667   \n",
      "3      1.00      0.6      0.5     0.6  0.333333  0.333333      0.25  0.333333   \n",
      "4      1.00      0.5      0.5     0.7  0.666667  0.333333      0.50  0.500000   \n",
      "\n",
      "   cptppola  trstprl  ...  iphlppl  ipsuces  ipstrgv  ipadvnt  ipbhprp  \\\n",
      "0      0.50      0.6  ...      0.0      0.2      1.0      0.4      1.0   \n",
      "1      0.50      0.5  ...      0.4      0.4      0.6      0.8      0.8   \n",
      "2      0.25      0.3  ...      0.4      1.0      0.0      1.0      0.4   \n",
      "3      0.75      0.1  ...      0.4      0.4      0.2      0.4      0.6   \n",
      "4      0.00      0.7  ...      0.0      0.4      0.6      0.8      0.2   \n",
      "\n",
      "   iprspot  iplylfr  impenv  imptrad  impfun  \n",
      "0      0.0      0.0     0.0      1.0    0.50  \n",
      "1      0.2      0.2     0.2      0.8    1.00  \n",
      "2      0.4      0.0     0.2      0.2    0.50  \n",
      "3      0.2      0.2     0.4      0.2    0.25  \n",
      "4      0.4      0.0     0.0      0.6    0.00  \n",
      "\n",
      "[5 rows x 228 columns]\n",
      "done\n"
     ]
    }
   ],
   "source": [
    "# ------------------------------------------------------\n",
    "# ---------------Filter to useful answers---------------\n",
    "# ------------------------------------------------------\n",
    "\n",
    "# Takes around 14 minutes to run\n",
    "\n",
    "print(useful_questions[\"netusoft\"])\n",
    "\n",
    "def adjust_and_drop_to_range(df):\n",
    "    for col in df.columns:\n",
    "        df[col] = df[col].astype(float)\n",
    "        #print(\"df[col]:\",df[col])\n",
    "        col_range = column_dict[col][1] - column_dict[col][0]\n",
    "        for i in range(0,len(df[col])):\n",
    "#             print(\"df[\",col,\"][\",i,\"]:\",df[col][i])\n",
    "#             print(\"column_dict[\",col,\"][\",0,\"]\",column_dict[col][0])\n",
    "#             print(\"column_dict[\",col,\"][\",1,\"]\",column_dict[col][1])\n",
    "            if df[col][i] < column_dict[col][0] or df[col][i] > column_dict[col][1]:\n",
    "                #print(\"Out range\")\n",
    "                df[col][i] = float(\"NaN\") # Sets it to be ignored in calculations\n",
    "            else:\n",
    "                #print(\"In range\")\n",
    "                df[col][i] = (df[col][i] - column_dict[col][0]) / col_range\n",
    "        #break\n",
    "    return df\n",
    "\n",
    "grouped_answers = adjust_and_drop_to_range(useful_questions)\n",
    "print(\"grouped_answers.shape:\",grouped_answers.shape)\n",
    "print(\"len(useful_questions['netusoft']):\",len(useful_questions[\"netusoft\"]))\n",
    "print(\"useful_questions['netusoft']:\",useful_questions[\"netusoft\"])\n",
    "print(\"useful_questions.head():\",useful_questions.head())"
   ]
  },
  {
   "cell_type": "code",
   "execution_count": 74,
   "metadata": {
    "scrolled": false
   },
   "outputs": [
    {
     "data": {
      "application/vnd.jupyter.widget-view+json": {
       "model_id": "3abca853417b41b685c57a97ccf1d06a",
       "version_major": 2,
       "version_minor": 0
      },
      "text/plain": [
       "Dropdown(description='Interest:', options=('Media and social trust', 'Politics', 'Subjective well-being, socia…"
      ]
     },
     "metadata": {},
     "output_type": "display_data"
    },
    {
     "name": "stdout",
     "output_type": "stream",
     "text": [
      "filtered_to_group.shape: (44387, 41)\n",
      "group_means.shape: (41, 2)\n"
     ]
    },
    {
     "data": {
      "application/javascript": [
       "const spec = {\"config\": {\"view\": {\"width\": 400, \"height\": 300}, \"mark\": {\"tooltip\": null}}, \"data\": {\"name\": \"data-0e94b873791747a04d44133390f944ba\"}, \"mark\": \"bar\", \"encoding\": {\"x\": {\"type\": \"ordinal\", \"field\": \"Question\", \"sort\": {\"field\": \"Opinion\", \"order\": \"descending\"}}, \"y\": {\"type\": \"quantitative\", \"field\": \"Opinion\"}}, \"$schema\": \"https://vega.github.io/schema/vega-lite/v3.4.0.json\", \"datasets\": {\"data-0e94b873791747a04d44133390f944ba\": [{\"Question\": \"polintr\", \"Opinion\": 0.5290810566719318}, {\"Question\": \"psppsgva\", \"Opinion\": 0.202385329533965}, {\"Question\": \"actrolga\", \"Opinion\": 0.2679508423087545}, {\"Question\": \"psppipla\", \"Opinion\": 0.19154685194953275}, {\"Question\": \"cptppola\", \"Opinion\": 0.27994998732397613}, {\"Question\": \"trstprl\", \"Opinion\": 0.4586110217401369}, {\"Question\": \"trstlgl\", \"Opinion\": 0.5417933759015062}, {\"Question\": \"trstplc\", \"Opinion\": 0.639898336623748}, {\"Question\": \"trstplt\", \"Opinion\": 0.3649916554262861}, {\"Question\": \"trstprt\", \"Opinion\": 0.3630134154185709}, {\"Question\": \"trstep\", \"Opinion\": 0.42704036751052304}, {\"Question\": \"trstun\", \"Opinion\": 0.5014391125879677}, {\"Question\": \"contplt\", \"Opinion\": 0.846967129786513}, {\"Question\": \"wrkprty\", \"Opinion\": 0.9574477696216827}, {\"Question\": \"wrkorg\", \"Opinion\": 0.8382439333001943}, {\"Question\": \"badge\", \"Opinion\": 0.9142586023813289}, {\"Question\": \"sgnptit\", \"Opinion\": 0.7587275730220141}, {\"Question\": \"pbldmn\", \"Opinion\": 0.9229865316821838}, {\"Question\": \"bctprd\", \"Opinion\": 0.8199352545672696}, {\"Question\": \"pstplonl\", \"Opinion\": 0.8355612856528918}, {\"Question\": \"clsprty\", \"Opinion\": 0.53271309217987}, {\"Question\": \"prtdgcl\", \"Opinion\": 0.38467858953510603}, {\"Question\": \"lrscale\", \"Opinion\": 0.515664930150581}, {\"Question\": \"stflife\", \"Opinion\": 0.7154909502262404}, {\"Question\": \"stfeco\", \"Opinion\": 0.5036711799728822}, {\"Question\": \"stfgov\", \"Opinion\": 0.4450030074492339}, {\"Question\": \"stfdem\", \"Opinion\": 0.5265269488996673}, {\"Question\": \"stfedu\", \"Opinion\": 0.5773179503946778}, {\"Question\": \"stfhlth\", \"Opinion\": 0.5619582482414125}, {\"Question\": \"gincdif\", \"Opinion\": 0.28372412215486675}, {\"Question\": \"mnrgtjb\", \"Opinion\": 0.7594331024425811}, {\"Question\": \"freehms\", \"Opinion\": 0.28560346424601707}, {\"Question\": \"hmsfmlsh\", \"Opinion\": 0.7047256061916899}, {\"Question\": \"hmsacld\", \"Opinion\": 0.487015860446701}, {\"Question\": \"euftf\", \"Opinion\": 0.4899646851088951}, {\"Question\": \"imsmetn\", \"Opinion\": 0.37572855953377776}, {\"Question\": \"imdfetn\", \"Opinion\": 0.49561850890203524}, {\"Question\": \"impcntr\", \"Opinion\": 0.5130695359867928}, {\"Question\": \"imbgeco\", \"Opinion\": 0.5005604203152354}, {\"Question\": \"imueclt\", \"Opinion\": 0.5367881072026758}, {\"Question\": \"imwbcnt\", \"Opinion\": 0.49039579684763657}]}};\n",
       "const opt = {};\n",
       "const type = \"vega-lite\";\n",
       "const id = \"4642a28f-4eeb-4d4b-8900-97bf41029f32\";\n",
       "\n",
       "const output_area = this;\n",
       "\n",
       "require([\"nbextensions/jupyter-vega/index\"], function(vega) {\n",
       "  const target = document.createElement(\"div\");\n",
       "  target.id = id;\n",
       "  target.className = \"vega-embed\";\n",
       "\n",
       "  const style = document.createElement(\"style\");\n",
       "  style.textContent = [\n",
       "    \".vega-embed .error p {\",\n",
       "    \"  color: firebrick;\",\n",
       "    \"  font-size: 14px;\",\n",
       "    \"}\",\n",
       "  ].join(\"\\\\n\");\n",
       "\n",
       "  // element is a jQuery wrapped DOM element inside the output area\n",
       "  // see http://ipython.readthedocs.io/en/stable/api/generated/\\\n",
       "  // IPython.display.html#IPython.display.Javascript.__init__\n",
       "  element[0].appendChild(target);\n",
       "  element[0].appendChild(style);\n",
       "\n",
       "  vega.render(\"#\" + id, spec, type, opt, output_area);\n",
       "}, function (err) {\n",
       "  if (err.requireType !== \"scripterror\") {\n",
       "    throw(err);\n",
       "  }\n",
       "});\n"
      ],
      "text/plain": [
       "<vega.vegalite.VegaLite at 0x7f1664393a58>"
      ]
     },
     "metadata": {
      "jupyter-vega": "#4642a28f-4eeb-4d4b-8900-97bf41029f32"
     },
     "output_type": "display_data"
    },
    {
     "data": {
      "text/plain": []
     },
     "metadata": {},
     "output_type": "display_data"
    },
    {
     "data": {
      "image/png": "[encoded data removed]"
     },
     "metadata": {
      "jupyter-vega": "#4642a28f-4eeb-4d4b-8900-97bf41029f32"
     },
     "output_type": "display_data"
    }
   ],
   "source": [
    "# A simple beginning for starting to learn how to incorporate interaction\n",
    "\n",
    "import ipywidgets as widgets\n",
    "from IPython.display import display\n",
    "#print(desc.Group.unique())\n",
    "\n",
    "interestGroup = widgets.Dropdown(\n",
    "    # `e[6:]` remove \"Group\" substring from before each option\n",
    "    # `desc.Group.unique()` gets all unique values in the `Group` column\n",
    "    # `[2:]` removes first 2 options of `Country` and `Weights`\n",
    "    options=[e[6:] for e in desc.Group.unique()[2:]],\n",
    "    description='Interest:',\n",
    ")\n",
    "display(interestGroup)  \n",
    "\n",
    "\n",
    "# # Drops all columns it cannot caste to float\n",
    "# def drop_uncastable(dataframe):\n",
    "#     for col in dataframe.columns:\n",
    "#         try:\n",
    "#             dataframe[col] = dataframe[col].astype(float)\n",
    "#         except:\n",
    "#             dataframe = dataframe.drop(columns=[col],axis=1)\n",
    "            \n",
    "#     return dataframe\n",
    "    \n",
    "def on_change(change):\n",
    "    if change['type'] == 'change' and change['name'] == 'value':\n",
    "        # Select questions group\n",
    "        interested_desc = desc[(desc.Group == \"Group \" + interestGroup.value)]\n",
    "        # Filter with `data` to select questions in group by name\n",
    "        filtered_to_group = grouped_answers.filter(interested_desc.Name)\n",
    "        print(\"filtered_to_group.shape:\",filtered_to_group.shape)\n",
    "        group_means = filtered_to_group.mean().reset_index()\n",
    "        group_means.columns = [\"Question\",\"Opinion\"]\n",
    "        print(\"group_means.shape:\",group_means.shape)\n",
    "        test = alt.Chart(group_means).mark_bar().encode(\n",
    "            x=alt.X(\"Question:O\",sort=alt.EncodingSortField(field=\"Opinion\",order=\"descending\")),\n",
    "            y=alt.Y(\"Opinion:Q\",)\n",
    "        )\n",
    "        display(test)\n",
    "        \n",
    "\n",
    "interestGroup.observe(on_change)\n"
   ]
  },
  {
   "cell_type": "code",
   "execution_count": null,
   "metadata": {},
   "outputs": [],
   "source": []
  }
 ],
 "metadata": {
  "kernelspec": {
   "display_name": "Python 3",
   "language": "python",
   "name": "python3"
  },
  "language_info": {
   "codemirror_mode": {
    "name": "ipython",
    "version": 3
   },
   "file_extension": ".py",
   "mimetype": "text/x-python",
   "name": "python",
   "nbconvert_exporter": "python",
   "pygments_lexer": "ipython3",
   "version": "3.7.3"
  }
 },
 "nbformat": 4,
 "nbformat_minor": 2
}
